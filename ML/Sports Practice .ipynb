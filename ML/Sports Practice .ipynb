{
 "cells": [
  {
   "cell_type": "code",
   "execution_count": 33,
   "metadata": {},
   "outputs": [],
   "source": [
    "import pandas as pd\n",
    "import numpy as np\n",
    "import matplotlib.pyplot as plt\n",
    "import seaborn as sns\n",
    "%matplotlib inline\n",
    "sns.set()\n"
   ]
  },
  {
   "cell_type": "code",
   "execution_count": 34,
   "metadata": {},
   "outputs": [],
   "source": [
    "#read_csv\n",
    "df = pd.read_csv(r'C:\\Users\\mashael\\Desktop\\finalproject.csv')"
   ]
  },
  {
   "cell_type": "code",
   "execution_count": 35,
   "metadata": {},
   "outputs": [
    {
     "data": {
      "text/html": [
       "<div>\n",
       "<style scoped>\n",
       "    .dataframe tbody tr th:only-of-type {\n",
       "        vertical-align: middle;\n",
       "    }\n",
       "\n",
       "    .dataframe tbody tr th {\n",
       "        vertical-align: top;\n",
       "    }\n",
       "\n",
       "    .dataframe thead th {\n",
       "        text-align: right;\n",
       "    }\n",
       "</style>\n",
       "<table border=\"1\" class=\"dataframe\">\n",
       "  <thead>\n",
       "    <tr style=\"text-align: right;\">\n",
       "      <th></th>\n",
       "      <th>city</th>\n",
       "      <th>Male_city</th>\n",
       "      <th>Female_city</th>\n",
       "      <th>Total_city</th>\n",
       "      <th>Age categories</th>\n",
       "      <th>Male_age</th>\n",
       "      <th>Female_ age</th>\n",
       "      <th>Total_age</th>\n",
       "      <th>Education status</th>\n",
       "      <th>Male_Education</th>\n",
       "      <th>Female_Education</th>\n",
       "      <th>Total_Education</th>\n",
       "      <th>Marital status</th>\n",
       "      <th>Male_Marital</th>\n",
       "      <th>Female_Marital</th>\n",
       "      <th>Total_Marital</th>\n",
       "    </tr>\n",
       "  </thead>\n",
       "  <tbody>\n",
       "    <tr>\n",
       "      <th>0</th>\n",
       "      <td>Riyadh</td>\n",
       "      <td>23.776547</td>\n",
       "      <td>10.410878</td>\n",
       "      <td>18.708642</td>\n",
       "      <td>from 15-19 years</td>\n",
       "      <td>38.098805</td>\n",
       "      <td>9.001282</td>\n",
       "      <td>23.859254</td>\n",
       "      <td>Illiterate</td>\n",
       "      <td>7.415767</td>\n",
       "      <td>3.834490</td>\n",
       "      <td>5.213827</td>\n",
       "      <td>Never married</td>\n",
       "      <td>34.215628</td>\n",
       "      <td>13.498349</td>\n",
       "      <td>26.124858</td>\n",
       "    </tr>\n",
       "    <tr>\n",
       "      <th>1</th>\n",
       "      <td>Makkah</td>\n",
       "      <td>29.186481</td>\n",
       "      <td>14.305307</td>\n",
       "      <td>23.098762</td>\n",
       "      <td>from 20-24 years</td>\n",
       "      <td>36.383069</td>\n",
       "      <td>13.536490</td>\n",
       "      <td>25.713604</td>\n",
       "      <td>Reads and writes</td>\n",
       "      <td>11.699153</td>\n",
       "      <td>5.784682</td>\n",
       "      <td>8.977998</td>\n",
       "      <td>Married</td>\n",
       "      <td>22.333617</td>\n",
       "      <td>10.701772</td>\n",
       "      <td>17.893535</td>\n",
       "    </tr>\n",
       "    <tr>\n",
       "      <th>2</th>\n",
       "      <td>Madinah</td>\n",
       "      <td>22.230650</td>\n",
       "      <td>9.281563</td>\n",
       "      <td>16.845792</td>\n",
       "      <td>From 25-29 years</td>\n",
       "      <td>30.691236</td>\n",
       "      <td>12.475186</td>\n",
       "      <td>22.545821</td>\n",
       "      <td>Elementary</td>\n",
       "      <td>14.063089</td>\n",
       "      <td>6.413148</td>\n",
       "      <td>11.281054</td>\n",
       "      <td>Divorced</td>\n",
       "      <td>27.510504</td>\n",
       "      <td>13.496287</td>\n",
       "      <td>18.325888</td>\n",
       "    </tr>\n",
       "    <tr>\n",
       "      <th>3</th>\n",
       "      <td>Qassim</td>\n",
       "      <td>22.806912</td>\n",
       "      <td>9.609727</td>\n",
       "      <td>17.570104</td>\n",
       "      <td>From 30-34 years</td>\n",
       "      <td>25.982270</td>\n",
       "      <td>12.132770</td>\n",
       "      <td>20.288616</td>\n",
       "      <td>Intermediate</td>\n",
       "      <td>22.226023</td>\n",
       "      <td>9.300754</td>\n",
       "      <td>17.394988</td>\n",
       "      <td>Widow</td>\n",
       "      <td>13.361217</td>\n",
       "      <td>6.219248</td>\n",
       "      <td>6.934481</td>\n",
       "    </tr>\n",
       "    <tr>\n",
       "      <th>4</th>\n",
       "      <td>Eastern Region</td>\n",
       "      <td>27.085880</td>\n",
       "      <td>12.097514</td>\n",
       "      <td>21.495449</td>\n",
       "      <td>From 35-39 years</td>\n",
       "      <td>23.139548</td>\n",
       "      <td>12.091166</td>\n",
       "      <td>19.023979</td>\n",
       "      <td>Secondary school or equivalent</td>\n",
       "      <td>29.008861</td>\n",
       "      <td>12.182132</td>\n",
       "      <td>22.339352</td>\n",
       "      <td>NaN</td>\n",
       "      <td>NaN</td>\n",
       "      <td>NaN</td>\n",
       "      <td>NaN</td>\n",
       "    </tr>\n",
       "  </tbody>\n",
       "</table>\n",
       "</div>"
      ],
      "text/plain": [
       "             city  Male_city  Female_city  Total_city    Age categories  \\\n",
       "0          Riyadh  23.776547    10.410878   18.708642  from 15-19 years   \n",
       "1          Makkah  29.186481    14.305307   23.098762  from 20-24 years   \n",
       "2         Madinah  22.230650     9.281563   16.845792  From 25-29 years   \n",
       "3          Qassim  22.806912     9.609727   17.570104  From 30-34 years   \n",
       "4  Eastern Region  27.085880    12.097514   21.495449  From 35-39 years   \n",
       "\n",
       "    Male_age  Female_ age  Total_age                Education status  \\\n",
       "0  38.098805     9.001282  23.859254                      Illiterate   \n",
       "1  36.383069    13.536490  25.713604                Reads and writes   \n",
       "2  30.691236    12.475186  22.545821                      Elementary   \n",
       "3  25.982270    12.132770  20.288616                    Intermediate   \n",
       "4  23.139548    12.091166  19.023979  Secondary school or equivalent   \n",
       "\n",
       "   Male_Education  Female_Education  Total_Education Marital status  \\\n",
       "0        7.415767          3.834490         5.213827  Never married   \n",
       "1       11.699153          5.784682         8.977998        Married   \n",
       "2       14.063089          6.413148        11.281054       Divorced   \n",
       "3       22.226023          9.300754        17.394988          Widow   \n",
       "4       29.008861         12.182132        22.339352            NaN   \n",
       "\n",
       "   Male_Marital  Female_Marital  Total_Marital  \n",
       "0     34.215628       13.498349      26.124858  \n",
       "1     22.333617       10.701772      17.893535  \n",
       "2     27.510504       13.496287      18.325888  \n",
       "3     13.361217        6.219248       6.934481  \n",
       "4           NaN             NaN            NaN  "
      ]
     },
     "execution_count": 35,
     "metadata": {},
     "output_type": "execute_result"
    }
   ],
   "source": [
    "df.head()"
   ]
  },
  {
   "cell_type": "code",
   "execution_count": 37,
   "metadata": {},
   "outputs": [
    {
     "data": {
      "text/plain": [
       "<matplotlib.axes._subplots.AxesSubplot at 0x187cbae70a0>"
      ]
     },
     "execution_count": 37,
     "metadata": {},
     "output_type": "execute_result"
    },
    {
     "data": {
      "image/png": "[encoded data removed]",
      "text/plain": [
       "<Figure size 432x288 with 1 Axes>"
      ]
     },
     "metadata": {},
     "output_type": "display_data"
    }
   ],
   "source": [
    "df.groupby('city')['Total_city'].aggregate(lambda x: x.sum()/len(x)).plot(kind='bar')\n"
   ]
  },
  {
   "cell_type": "code",
   "execution_count": 38,
   "metadata": {},
   "outputs": [
    {
     "data": {
      "text/plain": [
       "<matplotlib.axes._subplots.AxesSubplot at 0x187cbba3af0>"
      ]
     },
     "execution_count": 38,
     "metadata": {},
     "output_type": "execute_result"
    },
    {
     "data": {
      "image/png": "[encoded data removed]",
      "text/plain": [
       "<Figure size 432x288 with 1 Axes>"
      ]
     },
     "metadata": {},
     "output_type": "display_data"
    }
   ],
   "source": [
    "df.groupby('Age categories')['Female_ age'].aggregate(lambda x: x.sum()/len(x)).plot(kind='bar')"
   ]
  }
 ],
 "metadata": {
  "kernelspec": {
   "display_name": "Python 3",
   "language": "python",
   "name": "python3"
  },
  "language_info": {
   "codemirror_mode": {
    "name": "ipython",
    "version": 3
   },
   "file_extension": ".py",
   "mimetype": "text/x-python",
   "name": "python",
   "nbconvert_exporter": "python",
   "pygments_lexer": "ipython3",
   "version": "3.8.3"
  }
 },
 "nbformat": 4,
 "nbformat_minor": 4
}
