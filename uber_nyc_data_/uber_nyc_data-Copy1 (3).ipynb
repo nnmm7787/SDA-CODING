{
 "cells": [
  {
   "cell_type": "code",
   "execution_count": 280,
   "metadata": {},
   "outputs": [],
   "source": [
    "import seaborn as sns\n",
    "import pandas as pd\n",
    "from sklearn.linear_model import LogisticRegression,LinearRegression\n",
    "import numpy as np\n",
    "import matplotlib as mpl\n",
    "import matplotlib.pyplot as plt\n",
    "import datetime\n",
    "import time\n",
    "import sys\n",
    "import json\n",
    "%matplotlib inline"
   ]
  },
  {
   "cell_type": "code",
   "execution_count": 281,
   "metadata": {},
   "outputs": [],
   "source": [
    "df_uber = pd.read_csv(r'C:\\Users\\mashael\\Desktop/sample_dataset.csv')"
   ]
  },
  {
   "cell_type": "code",
   "execution_count": 282,
   "metadata": {},
   "outputs": [
    {
     "name": "stdout",
     "output_type": "stream",
     "text": [
      "<class 'pandas.core.frame.DataFrame'>\n",
      "RangeIndex: 1000000 entries, 0 to 999999\n",
      "Data columns (total 9 columns):\n",
      " #   Column             Non-Null Count    Dtype  \n",
      "---  ------             --------------    -----  \n",
      " 0   Unnamed: 0         1000000 non-null  int64  \n",
      " 1   key                1000000 non-null  object \n",
      " 2   fare_amount        1000000 non-null  float64\n",
      " 3   pickup_datetime    1000000 non-null  object \n",
      " 4   pickup_longitude   1000000 non-null  float64\n",
      " 5   pickup_latitude    1000000 non-null  float64\n",
      " 6   dropoff_longitude  999990 non-null   float64\n",
      " 7   dropoff_latitude   999990 non-null   float64\n",
      " 8   passenger_count    1000000 non-null  int64  \n",
      "dtypes: float64(5), int64(2), object(2)\n",
      "memory usage: 68.7+ MB\n"
     ]
    }
   ],
   "source": [
    "df_uber.info()"
   ]
  },
  {
   "cell_type": "code",
   "execution_count": 283,
   "metadata": {},
   "outputs": [
    {
     "data": {
      "text/html": [
       "<div>\n",
       "<style scoped>\n",
       "    .dataframe tbody tr th:only-of-type {\n",
       "        vertical-align: middle;\n",
       "    }\n",
       "\n",
       "    .dataframe tbody tr th {\n",
       "        vertical-align: top;\n",
       "    }\n",
       "\n",
       "    .dataframe thead th {\n",
       "        text-align: right;\n",
       "    }\n",
       "</style>\n",
       "<table border=\"1\" class=\"dataframe\">\n",
       "  <thead>\n",
       "    <tr style=\"text-align: right;\">\n",
       "      <th></th>\n",
       "      <th>Unnamed: 0</th>\n",
       "      <th>key</th>\n",
       "      <th>fare_amount</th>\n",
       "      <th>pickup_datetime</th>\n",
       "      <th>pickup_longitude</th>\n",
       "      <th>pickup_latitude</th>\n",
       "      <th>dropoff_longitude</th>\n",
       "      <th>dropoff_latitude</th>\n",
       "      <th>passenger_count</th>\n",
       "    </tr>\n",
       "  </thead>\n",
       "  <tbody>\n",
       "    <tr>\n",
       "      <th>0</th>\n",
       "      <td>0</td>\n",
       "      <td>26:21.0</td>\n",
       "      <td>4.5</td>\n",
       "      <td>2009-06-15 17:26:21 UTC</td>\n",
       "      <td>-73.844311</td>\n",
       "      <td>40.721319</td>\n",
       "      <td>-73.841610</td>\n",
       "      <td>40.712278</td>\n",
       "      <td>1</td>\n",
       "    </tr>\n",
       "    <tr>\n",
       "      <th>1</th>\n",
       "      <td>1</td>\n",
       "      <td>52:16.0</td>\n",
       "      <td>16.9</td>\n",
       "      <td>2010-01-05 16:52:16 UTC</td>\n",
       "      <td>-74.016048</td>\n",
       "      <td>40.711303</td>\n",
       "      <td>-73.979268</td>\n",
       "      <td>40.782004</td>\n",
       "      <td>1</td>\n",
       "    </tr>\n",
       "    <tr>\n",
       "      <th>2</th>\n",
       "      <td>2</td>\n",
       "      <td>35:00.0</td>\n",
       "      <td>5.7</td>\n",
       "      <td>2011-08-18 00:35:00 UTC</td>\n",
       "      <td>-73.982738</td>\n",
       "      <td>40.761270</td>\n",
       "      <td>-73.991242</td>\n",
       "      <td>40.750562</td>\n",
       "      <td>2</td>\n",
       "    </tr>\n",
       "    <tr>\n",
       "      <th>3</th>\n",
       "      <td>3</td>\n",
       "      <td>30:42.0</td>\n",
       "      <td>7.7</td>\n",
       "      <td>2012-04-21 04:30:42 UTC</td>\n",
       "      <td>-73.987130</td>\n",
       "      <td>40.733143</td>\n",
       "      <td>-73.991567</td>\n",
       "      <td>40.758092</td>\n",
       "      <td>1</td>\n",
       "    </tr>\n",
       "    <tr>\n",
       "      <th>4</th>\n",
       "      <td>4</td>\n",
       "      <td>51:00.0</td>\n",
       "      <td>5.3</td>\n",
       "      <td>2010-03-09 07:51:00 UTC</td>\n",
       "      <td>-73.968095</td>\n",
       "      <td>40.768008</td>\n",
       "      <td>-73.956655</td>\n",
       "      <td>40.783762</td>\n",
       "      <td>1</td>\n",
       "    </tr>\n",
       "  </tbody>\n",
       "</table>\n",
       "</div>"
      ],
      "text/plain": [
       "   Unnamed: 0      key  fare_amount          pickup_datetime  \\\n",
       "0           0  26:21.0          4.5  2009-06-15 17:26:21 UTC   \n",
       "1           1  52:16.0         16.9  2010-01-05 16:52:16 UTC   \n",
       "2           2  35:00.0          5.7  2011-08-18 00:35:00 UTC   \n",
       "3           3  30:42.0          7.7  2012-04-21 04:30:42 UTC   \n",
       "4           4  51:00.0          5.3  2010-03-09 07:51:00 UTC   \n",
       "\n",
       "   pickup_longitude  pickup_latitude  dropoff_longitude  dropoff_latitude  \\\n",
       "0        -73.844311        40.721319         -73.841610         40.712278   \n",
       "1        -74.016048        40.711303         -73.979268         40.782004   \n",
       "2        -73.982738        40.761270         -73.991242         40.750562   \n",
       "3        -73.987130        40.733143         -73.991567         40.758092   \n",
       "4        -73.968095        40.768008         -73.956655         40.783762   \n",
       "\n",
       "   passenger_count  \n",
       "0                1  \n",
       "1                1  \n",
       "2                2  \n",
       "3                1  \n",
       "4                1  "
      ]
     },
     "execution_count": 283,
     "metadata": {},
     "output_type": "execute_result"
    }
   ],
   "source": [
    "df_uber.head()"
   ]
  },
  {
   "cell_type": "code",
   "execution_count": 284,
   "metadata": {},
   "outputs": [
    {
     "data": {
      "text/html": [
       "<div>\n",
       "<style scoped>\n",
       "    .dataframe tbody tr th:only-of-type {\n",
       "        vertical-align: middle;\n",
       "    }\n",
       "\n",
       "    .dataframe tbody tr th {\n",
       "        vertical-align: top;\n",
       "    }\n",
       "\n",
       "    .dataframe thead th {\n",
       "        text-align: right;\n",
       "    }\n",
       "</style>\n",
       "<table border=\"1\" class=\"dataframe\">\n",
       "  <thead>\n",
       "    <tr style=\"text-align: right;\">\n",
       "      <th></th>\n",
       "      <th>Unnamed: 0</th>\n",
       "      <th>key</th>\n",
       "      <th>fare_amount</th>\n",
       "      <th>pickup_datetime</th>\n",
       "      <th>pickup_longitude</th>\n",
       "      <th>pickup_latitude</th>\n",
       "      <th>dropoff_longitude</th>\n",
       "      <th>dropoff_latitude</th>\n",
       "      <th>passenger_count</th>\n",
       "    </tr>\n",
       "  </thead>\n",
       "  <tbody>\n",
       "    <tr>\n",
       "      <th>999995</th>\n",
       "      <td>999995</td>\n",
       "      <td>44:38.0</td>\n",
       "      <td>7.0</td>\n",
       "      <td>2014-09-13 21:44:38 UTC</td>\n",
       "      <td>-73.976676</td>\n",
       "      <td>40.785630</td>\n",
       "      <td>-73.959196</td>\n",
       "      <td>40.775114</td>\n",
       "      <td>1</td>\n",
       "    </tr>\n",
       "    <tr>\n",
       "      <th>999996</th>\n",
       "      <td>999996</td>\n",
       "      <td>50:37.0</td>\n",
       "      <td>7.3</td>\n",
       "      <td>2010-09-20 14:50:37 UTC</td>\n",
       "      <td>-73.992103</td>\n",
       "      <td>40.671385</td>\n",
       "      <td>-73.992103</td>\n",
       "      <td>40.671385</td>\n",
       "      <td>2</td>\n",
       "    </tr>\n",
       "    <tr>\n",
       "      <th>999997</th>\n",
       "      <td>999997</td>\n",
       "      <td>03:00.0</td>\n",
       "      <td>10.5</td>\n",
       "      <td>2013-04-26 14:03:00 UTC</td>\n",
       "      <td>-73.978423</td>\n",
       "      <td>40.751135</td>\n",
       "      <td>-73.993397</td>\n",
       "      <td>40.762197</td>\n",
       "      <td>5</td>\n",
       "    </tr>\n",
       "    <tr>\n",
       "      <th>999998</th>\n",
       "      <td>999998</td>\n",
       "      <td>29:00.0</td>\n",
       "      <td>6.9</td>\n",
       "      <td>2011-07-08 00:29:00 UTC</td>\n",
       "      <td>-73.980317</td>\n",
       "      <td>40.759482</td>\n",
       "      <td>-73.976832</td>\n",
       "      <td>40.743122</td>\n",
       "      <td>1</td>\n",
       "    </tr>\n",
       "    <tr>\n",
       "      <th>999999</th>\n",
       "      <td>999999</td>\n",
       "      <td>30:00.0</td>\n",
       "      <td>4.1</td>\n",
       "      <td>2009-12-31 14:30:00 UTC</td>\n",
       "      <td>-74.006635</td>\n",
       "      <td>40.741598</td>\n",
       "      <td>-73.999450</td>\n",
       "      <td>40.745702</td>\n",
       "      <td>1</td>\n",
       "    </tr>\n",
       "  </tbody>\n",
       "</table>\n",
       "</div>"
      ],
      "text/plain": [
       "        Unnamed: 0      key  fare_amount          pickup_datetime  \\\n",
       "999995      999995  44:38.0          7.0  2014-09-13 21:44:38 UTC   \n",
       "999996      999996  50:37.0          7.3  2010-09-20 14:50:37 UTC   \n",
       "999997      999997  03:00.0         10.5  2013-04-26 14:03:00 UTC   \n",
       "999998      999998  29:00.0          6.9  2011-07-08 00:29:00 UTC   \n",
       "999999      999999  30:00.0          4.1  2009-12-31 14:30:00 UTC   \n",
       "\n",
       "        pickup_longitude  pickup_latitude  dropoff_longitude  \\\n",
       "999995        -73.976676        40.785630         -73.959196   \n",
       "999996        -73.992103        40.671385         -73.992103   \n",
       "999997        -73.978423        40.751135         -73.993397   \n",
       "999998        -73.980317        40.759482         -73.976832   \n",
       "999999        -74.006635        40.741598         -73.999450   \n",
       "\n",
       "        dropoff_latitude  passenger_count  \n",
       "999995         40.775114                1  \n",
       "999996         40.671385                2  \n",
       "999997         40.762197                5  \n",
       "999998         40.743122                1  \n",
       "999999         40.745702                1  "
      ]
     },
     "execution_count": 284,
     "metadata": {},
     "output_type": "execute_result"
    }
   ],
   "source": [
    "df_uber.tail()"
   ]
  },
  {
   "cell_type": "markdown",
   "metadata": {},
   "source": [
    "# Check for missing data\n"
   ]
  },
  {
   "cell_type": "code",
   "execution_count": 285,
   "metadata": {},
   "outputs": [
    {
     "data": {
      "text/plain": [
       "Unnamed: 0            0\n",
       "key                   0\n",
       "fare_amount           0\n",
       "pickup_datetime       0\n",
       "pickup_longitude      0\n",
       "pickup_latitude       0\n",
       "dropoff_longitude    10\n",
       "dropoff_latitude     10\n",
       "passenger_count       0\n",
       "dtype: int64"
      ]
     },
     "execution_count": 285,
     "metadata": {},
     "output_type": "execute_result"
    }
   ],
   "source": [
    "df_uber.isnull().sum()"
   ]
  },
  {
   "cell_type": "code",
   "execution_count": 286,
   "metadata": {},
   "outputs": [],
   "source": [
    "#Checking for null values\n",
    "df_uber.dropna(inplace=True)"
   ]
  },
  {
   "cell_type": "code",
   "execution_count": 287,
   "metadata": {},
   "outputs": [
    {
     "data": {
      "text/plain": [
       "Unnamed: 0           0\n",
       "key                  0\n",
       "fare_amount          0\n",
       "pickup_datetime      0\n",
       "pickup_longitude     0\n",
       "pickup_latitude      0\n",
       "dropoff_longitude    0\n",
       "dropoff_latitude     0\n",
       "passenger_count      0\n",
       "dtype: int64"
      ]
     },
     "execution_count": 287,
     "metadata": {},
     "output_type": "execute_result"
    }
   ],
   "source": [
    "df_uber.isnull().sum()"
   ]
  },
  {
   "cell_type": "markdown",
   "metadata": {},
   "source": [
    "#  add some useful columns"
   ]
  },
  {
   "cell_type": "code",
   "execution_count": 288,
   "metadata": {},
   "outputs": [],
   "source": [
    "df_uber['pickup_datetime'] = df_uber['pickup_datetime'].map(pd.to_datetime)"
   ]
  },
  {
   "cell_type": "code",
   "execution_count": 289,
   "metadata": {},
   "outputs": [],
   "source": [
    "# add  more suitable columns\n",
    "df_uber['year'] = df_uber['pickup_datetime'].dt.year\n",
    "df_uber['month'] = df_uber['pickup_datetime'].dt.month\n",
    "df_uber['day'] = df_uber['pickup_datetime'].dt.day\n",
    "df_uber['hour']=df_uber['pickup_datetime'].dt.hour\n",
    "df_uber['weekday']=df_uber['pickup_datetime'].dt.day_name()\n"
   ]
  },
  {
   "cell_type": "code",
   "execution_count": 290,
   "metadata": {},
   "outputs": [
    {
     "data": {
      "text/html": [
       "<div>\n",
       "<style scoped>\n",
       "    .dataframe tbody tr th:only-of-type {\n",
       "        vertical-align: middle;\n",
       "    }\n",
       "\n",
       "    .dataframe tbody tr th {\n",
       "        vertical-align: top;\n",
       "    }\n",
       "\n",
       "    .dataframe thead th {\n",
       "        text-align: right;\n",
       "    }\n",
       "</style>\n",
       "<table border=\"1\" class=\"dataframe\">\n",
       "  <thead>\n",
       "    <tr style=\"text-align: right;\">\n",
       "      <th></th>\n",
       "      <th>Unnamed: 0</th>\n",
       "      <th>key</th>\n",
       "      <th>fare_amount</th>\n",
       "      <th>pickup_datetime</th>\n",
       "      <th>pickup_longitude</th>\n",
       "      <th>pickup_latitude</th>\n",
       "      <th>dropoff_longitude</th>\n",
       "      <th>dropoff_latitude</th>\n",
       "      <th>passenger_count</th>\n",
       "      <th>year</th>\n",
       "      <th>month</th>\n",
       "      <th>day</th>\n",
       "      <th>hour</th>\n",
       "      <th>weekday</th>\n",
       "    </tr>\n",
       "  </thead>\n",
       "  <tbody>\n",
       "    <tr>\n",
       "      <th>0</th>\n",
       "      <td>0</td>\n",
       "      <td>26:21.0</td>\n",
       "      <td>4.5</td>\n",
       "      <td>2009-06-15 17:26:21+00:00</td>\n",
       "      <td>-73.844311</td>\n",
       "      <td>40.721319</td>\n",
       "      <td>-73.841610</td>\n",
       "      <td>40.712278</td>\n",
       "      <td>1</td>\n",
       "      <td>2009</td>\n",
       "      <td>6</td>\n",
       "      <td>15</td>\n",
       "      <td>17</td>\n",
       "      <td>Monday</td>\n",
       "    </tr>\n",
       "    <tr>\n",
       "      <th>1</th>\n",
       "      <td>1</td>\n",
       "      <td>52:16.0</td>\n",
       "      <td>16.9</td>\n",
       "      <td>2010-01-05 16:52:16+00:00</td>\n",
       "      <td>-74.016048</td>\n",
       "      <td>40.711303</td>\n",
       "      <td>-73.979268</td>\n",
       "      <td>40.782004</td>\n",
       "      <td>1</td>\n",
       "      <td>2010</td>\n",
       "      <td>1</td>\n",
       "      <td>5</td>\n",
       "      <td>16</td>\n",
       "      <td>Tuesday</td>\n",
       "    </tr>\n",
       "    <tr>\n",
       "      <th>2</th>\n",
       "      <td>2</td>\n",
       "      <td>35:00.0</td>\n",
       "      <td>5.7</td>\n",
       "      <td>2011-08-18 00:35:00+00:00</td>\n",
       "      <td>-73.982738</td>\n",
       "      <td>40.761270</td>\n",
       "      <td>-73.991242</td>\n",
       "      <td>40.750562</td>\n",
       "      <td>2</td>\n",
       "      <td>2011</td>\n",
       "      <td>8</td>\n",
       "      <td>18</td>\n",
       "      <td>0</td>\n",
       "      <td>Thursday</td>\n",
       "    </tr>\n",
       "    <tr>\n",
       "      <th>3</th>\n",
       "      <td>3</td>\n",
       "      <td>30:42.0</td>\n",
       "      <td>7.7</td>\n",
       "      <td>2012-04-21 04:30:42+00:00</td>\n",
       "      <td>-73.987130</td>\n",
       "      <td>40.733143</td>\n",
       "      <td>-73.991567</td>\n",
       "      <td>40.758092</td>\n",
       "      <td>1</td>\n",
       "      <td>2012</td>\n",
       "      <td>4</td>\n",
       "      <td>21</td>\n",
       "      <td>4</td>\n",
       "      <td>Saturday</td>\n",
       "    </tr>\n",
       "    <tr>\n",
       "      <th>4</th>\n",
       "      <td>4</td>\n",
       "      <td>51:00.0</td>\n",
       "      <td>5.3</td>\n",
       "      <td>2010-03-09 07:51:00+00:00</td>\n",
       "      <td>-73.968095</td>\n",
       "      <td>40.768008</td>\n",
       "      <td>-73.956655</td>\n",
       "      <td>40.783762</td>\n",
       "      <td>1</td>\n",
       "      <td>2010</td>\n",
       "      <td>3</td>\n",
       "      <td>9</td>\n",
       "      <td>7</td>\n",
       "      <td>Tuesday</td>\n",
       "    </tr>\n",
       "    <tr>\n",
       "      <th>5</th>\n",
       "      <td>5</td>\n",
       "      <td>50:45.0</td>\n",
       "      <td>12.1</td>\n",
       "      <td>2011-01-06 09:50:45+00:00</td>\n",
       "      <td>-74.000964</td>\n",
       "      <td>40.731630</td>\n",
       "      <td>-73.972892</td>\n",
       "      <td>40.758233</td>\n",
       "      <td>1</td>\n",
       "      <td>2011</td>\n",
       "      <td>1</td>\n",
       "      <td>6</td>\n",
       "      <td>9</td>\n",
       "      <td>Thursday</td>\n",
       "    </tr>\n",
       "    <tr>\n",
       "      <th>6</th>\n",
       "      <td>6</td>\n",
       "      <td>35:00.0</td>\n",
       "      <td>7.5</td>\n",
       "      <td>2012-11-20 20:35:00+00:00</td>\n",
       "      <td>-73.980002</td>\n",
       "      <td>40.751662</td>\n",
       "      <td>-73.973802</td>\n",
       "      <td>40.764842</td>\n",
       "      <td>1</td>\n",
       "      <td>2012</td>\n",
       "      <td>11</td>\n",
       "      <td>20</td>\n",
       "      <td>20</td>\n",
       "      <td>Tuesday</td>\n",
       "    </tr>\n",
       "    <tr>\n",
       "      <th>7</th>\n",
       "      <td>7</td>\n",
       "      <td>22:00.0</td>\n",
       "      <td>16.5</td>\n",
       "      <td>2012-01-04 17:22:00+00:00</td>\n",
       "      <td>-73.951300</td>\n",
       "      <td>40.774138</td>\n",
       "      <td>-73.990095</td>\n",
       "      <td>40.751048</td>\n",
       "      <td>1</td>\n",
       "      <td>2012</td>\n",
       "      <td>1</td>\n",
       "      <td>4</td>\n",
       "      <td>17</td>\n",
       "      <td>Wednesday</td>\n",
       "    </tr>\n",
       "    <tr>\n",
       "      <th>8</th>\n",
       "      <td>8</td>\n",
       "      <td>10:00.0</td>\n",
       "      <td>9.0</td>\n",
       "      <td>2012-12-03 13:10:00+00:00</td>\n",
       "      <td>-74.006462</td>\n",
       "      <td>40.726713</td>\n",
       "      <td>-73.993078</td>\n",
       "      <td>40.731628</td>\n",
       "      <td>1</td>\n",
       "      <td>2012</td>\n",
       "      <td>12</td>\n",
       "      <td>3</td>\n",
       "      <td>13</td>\n",
       "      <td>Monday</td>\n",
       "    </tr>\n",
       "    <tr>\n",
       "      <th>9</th>\n",
       "      <td>9</td>\n",
       "      <td>11:00.0</td>\n",
       "      <td>8.9</td>\n",
       "      <td>2009-09-02 01:11:00+00:00</td>\n",
       "      <td>-73.980658</td>\n",
       "      <td>40.733873</td>\n",
       "      <td>-73.991540</td>\n",
       "      <td>40.758138</td>\n",
       "      <td>2</td>\n",
       "      <td>2009</td>\n",
       "      <td>9</td>\n",
       "      <td>2</td>\n",
       "      <td>1</td>\n",
       "      <td>Wednesday</td>\n",
       "    </tr>\n",
       "  </tbody>\n",
       "</table>\n",
       "</div>"
      ],
      "text/plain": [
       "   Unnamed: 0      key  fare_amount           pickup_datetime  \\\n",
       "0           0  26:21.0          4.5 2009-06-15 17:26:21+00:00   \n",
       "1           1  52:16.0         16.9 2010-01-05 16:52:16+00:00   \n",
       "2           2  35:00.0          5.7 2011-08-18 00:35:00+00:00   \n",
       "3           3  30:42.0          7.7 2012-04-21 04:30:42+00:00   \n",
       "4           4  51:00.0          5.3 2010-03-09 07:51:00+00:00   \n",
       "5           5  50:45.0         12.1 2011-01-06 09:50:45+00:00   \n",
       "6           6  35:00.0          7.5 2012-11-20 20:35:00+00:00   \n",
       "7           7  22:00.0         16.5 2012-01-04 17:22:00+00:00   \n",
       "8           8  10:00.0          9.0 2012-12-03 13:10:00+00:00   \n",
       "9           9  11:00.0          8.9 2009-09-02 01:11:00+00:00   \n",
       "\n",
       "   pickup_longitude  pickup_latitude  dropoff_longitude  dropoff_latitude  \\\n",
       "0        -73.844311        40.721319         -73.841610         40.712278   \n",
       "1        -74.016048        40.711303         -73.979268         40.782004   \n",
       "2        -73.982738        40.761270         -73.991242         40.750562   \n",
       "3        -73.987130        40.733143         -73.991567         40.758092   \n",
       "4        -73.968095        40.768008         -73.956655         40.783762   \n",
       "5        -74.000964        40.731630         -73.972892         40.758233   \n",
       "6        -73.980002        40.751662         -73.973802         40.764842   \n",
       "7        -73.951300        40.774138         -73.990095         40.751048   \n",
       "8        -74.006462        40.726713         -73.993078         40.731628   \n",
       "9        -73.980658        40.733873         -73.991540         40.758138   \n",
       "\n",
       "   passenger_count  year  month  day  hour    weekday  \n",
       "0                1  2009      6   15    17     Monday  \n",
       "1                1  2010      1    5    16    Tuesday  \n",
       "2                2  2011      8   18     0   Thursday  \n",
       "3                1  2012      4   21     4   Saturday  \n",
       "4                1  2010      3    9     7    Tuesday  \n",
       "5                1  2011      1    6     9   Thursday  \n",
       "6                1  2012     11   20    20    Tuesday  \n",
       "7                1  2012      1    4    17  Wednesday  \n",
       "8                1  2012     12    3    13     Monday  \n",
       "9                2  2009      9    2     1  Wednesday  "
      ]
     },
     "execution_count": 290,
     "metadata": {},
     "output_type": "execute_result"
    }
   ],
   "source": [
    "df_uber.head(10)\n"
   ]
  },
  {
   "cell_type": "code",
   "execution_count": 291,
   "metadata": {},
   "outputs": [
    {
     "data": {
      "text/html": [
       "<div>\n",
       "<style scoped>\n",
       "    .dataframe tbody tr th:only-of-type {\n",
       "        vertical-align: middle;\n",
       "    }\n",
       "\n",
       "    .dataframe tbody tr th {\n",
       "        vertical-align: top;\n",
       "    }\n",
       "\n",
       "    .dataframe thead th {\n",
       "        text-align: right;\n",
       "    }\n",
       "</style>\n",
       "<table border=\"1\" class=\"dataframe\">\n",
       "  <thead>\n",
       "    <tr style=\"text-align: right;\">\n",
       "      <th></th>\n",
       "      <th>Unnamed: 0</th>\n",
       "      <th>key</th>\n",
       "      <th>fare_amount</th>\n",
       "      <th>pickup_datetime</th>\n",
       "      <th>pickup_longitude</th>\n",
       "      <th>pickup_latitude</th>\n",
       "      <th>dropoff_longitude</th>\n",
       "      <th>dropoff_latitude</th>\n",
       "      <th>passenger_count</th>\n",
       "      <th>year</th>\n",
       "      <th>month</th>\n",
       "      <th>day</th>\n",
       "      <th>hour</th>\n",
       "      <th>weekday</th>\n",
       "    </tr>\n",
       "  </thead>\n",
       "  <tbody>\n",
       "    <tr>\n",
       "      <th>999990</th>\n",
       "      <td>999990</td>\n",
       "      <td>43:00.0</td>\n",
       "      <td>6.1</td>\n",
       "      <td>2009-09-22 16:43:00+00:00</td>\n",
       "      <td>-73.963472</td>\n",
       "      <td>40.774893</td>\n",
       "      <td>-73.980038</td>\n",
       "      <td>40.777478</td>\n",
       "      <td>1</td>\n",
       "      <td>2009</td>\n",
       "      <td>9</td>\n",
       "      <td>22</td>\n",
       "      <td>16</td>\n",
       "      <td>Tuesday</td>\n",
       "    </tr>\n",
       "    <tr>\n",
       "      <th>999991</th>\n",
       "      <td>999991</td>\n",
       "      <td>17:51.0</td>\n",
       "      <td>8.9</td>\n",
       "      <td>2010-04-20 08:17:51+00:00</td>\n",
       "      <td>-73.973683</td>\n",
       "      <td>40.792300</td>\n",
       "      <td>-73.979603</td>\n",
       "      <td>40.765361</td>\n",
       "      <td>1</td>\n",
       "      <td>2010</td>\n",
       "      <td>4</td>\n",
       "      <td>20</td>\n",
       "      <td>8</td>\n",
       "      <td>Tuesday</td>\n",
       "    </tr>\n",
       "    <tr>\n",
       "      <th>999992</th>\n",
       "      <td>999992</td>\n",
       "      <td>57:27.0</td>\n",
       "      <td>5.7</td>\n",
       "      <td>2011-01-21 10:57:27+00:00</td>\n",
       "      <td>-73.976733</td>\n",
       "      <td>40.790480</td>\n",
       "      <td>-73.988215</td>\n",
       "      <td>40.779298</td>\n",
       "      <td>1</td>\n",
       "      <td>2011</td>\n",
       "      <td>1</td>\n",
       "      <td>21</td>\n",
       "      <td>10</td>\n",
       "      <td>Friday</td>\n",
       "    </tr>\n",
       "    <tr>\n",
       "      <th>999993</th>\n",
       "      <td>999993</td>\n",
       "      <td>08:00.0</td>\n",
       "      <td>15.0</td>\n",
       "      <td>2012-12-14 11:08:00+00:00</td>\n",
       "      <td>-73.975895</td>\n",
       "      <td>40.728558</td>\n",
       "      <td>-74.002202</td>\n",
       "      <td>40.755675</td>\n",
       "      <td>2</td>\n",
       "      <td>2012</td>\n",
       "      <td>12</td>\n",
       "      <td>14</td>\n",
       "      <td>11</td>\n",
       "      <td>Friday</td>\n",
       "    </tr>\n",
       "    <tr>\n",
       "      <th>999994</th>\n",
       "      <td>999994</td>\n",
       "      <td>57:55.0</td>\n",
       "      <td>20.0</td>\n",
       "      <td>2014-06-29 22:57:55+00:00</td>\n",
       "      <td>-73.872919</td>\n",
       "      <td>40.774106</td>\n",
       "      <td>-73.796524</td>\n",
       "      <td>40.775041</td>\n",
       "      <td>2</td>\n",
       "      <td>2014</td>\n",
       "      <td>6</td>\n",
       "      <td>29</td>\n",
       "      <td>22</td>\n",
       "      <td>Sunday</td>\n",
       "    </tr>\n",
       "    <tr>\n",
       "      <th>999995</th>\n",
       "      <td>999995</td>\n",
       "      <td>44:38.0</td>\n",
       "      <td>7.0</td>\n",
       "      <td>2014-09-13 21:44:38+00:00</td>\n",
       "      <td>-73.976676</td>\n",
       "      <td>40.785630</td>\n",
       "      <td>-73.959196</td>\n",
       "      <td>40.775114</td>\n",
       "      <td>1</td>\n",
       "      <td>2014</td>\n",
       "      <td>9</td>\n",
       "      <td>13</td>\n",
       "      <td>21</td>\n",
       "      <td>Saturday</td>\n",
       "    </tr>\n",
       "    <tr>\n",
       "      <th>999996</th>\n",
       "      <td>999996</td>\n",
       "      <td>50:37.0</td>\n",
       "      <td>7.3</td>\n",
       "      <td>2010-09-20 14:50:37+00:00</td>\n",
       "      <td>-73.992103</td>\n",
       "      <td>40.671385</td>\n",
       "      <td>-73.992103</td>\n",
       "      <td>40.671385</td>\n",
       "      <td>2</td>\n",
       "      <td>2010</td>\n",
       "      <td>9</td>\n",
       "      <td>20</td>\n",
       "      <td>14</td>\n",
       "      <td>Monday</td>\n",
       "    </tr>\n",
       "    <tr>\n",
       "      <th>999997</th>\n",
       "      <td>999997</td>\n",
       "      <td>03:00.0</td>\n",
       "      <td>10.5</td>\n",
       "      <td>2013-04-26 14:03:00+00:00</td>\n",
       "      <td>-73.978423</td>\n",
       "      <td>40.751135</td>\n",
       "      <td>-73.993397</td>\n",
       "      <td>40.762197</td>\n",
       "      <td>5</td>\n",
       "      <td>2013</td>\n",
       "      <td>4</td>\n",
       "      <td>26</td>\n",
       "      <td>14</td>\n",
       "      <td>Friday</td>\n",
       "    </tr>\n",
       "    <tr>\n",
       "      <th>999998</th>\n",
       "      <td>999998</td>\n",
       "      <td>29:00.0</td>\n",
       "      <td>6.9</td>\n",
       "      <td>2011-07-08 00:29:00+00:00</td>\n",
       "      <td>-73.980317</td>\n",
       "      <td>40.759482</td>\n",
       "      <td>-73.976832</td>\n",
       "      <td>40.743122</td>\n",
       "      <td>1</td>\n",
       "      <td>2011</td>\n",
       "      <td>7</td>\n",
       "      <td>8</td>\n",
       "      <td>0</td>\n",
       "      <td>Friday</td>\n",
       "    </tr>\n",
       "    <tr>\n",
       "      <th>999999</th>\n",
       "      <td>999999</td>\n",
       "      <td>30:00.0</td>\n",
       "      <td>4.1</td>\n",
       "      <td>2009-12-31 14:30:00+00:00</td>\n",
       "      <td>-74.006635</td>\n",
       "      <td>40.741598</td>\n",
       "      <td>-73.999450</td>\n",
       "      <td>40.745702</td>\n",
       "      <td>1</td>\n",
       "      <td>2009</td>\n",
       "      <td>12</td>\n",
       "      <td>31</td>\n",
       "      <td>14</td>\n",
       "      <td>Thursday</td>\n",
       "    </tr>\n",
       "  </tbody>\n",
       "</table>\n",
       "</div>"
      ],
      "text/plain": [
       "        Unnamed: 0      key  fare_amount           pickup_datetime  \\\n",
       "999990      999990  43:00.0          6.1 2009-09-22 16:43:00+00:00   \n",
       "999991      999991  17:51.0          8.9 2010-04-20 08:17:51+00:00   \n",
       "999992      999992  57:27.0          5.7 2011-01-21 10:57:27+00:00   \n",
       "999993      999993  08:00.0         15.0 2012-12-14 11:08:00+00:00   \n",
       "999994      999994  57:55.0         20.0 2014-06-29 22:57:55+00:00   \n",
       "999995      999995  44:38.0          7.0 2014-09-13 21:44:38+00:00   \n",
       "999996      999996  50:37.0          7.3 2010-09-20 14:50:37+00:00   \n",
       "999997      999997  03:00.0         10.5 2013-04-26 14:03:00+00:00   \n",
       "999998      999998  29:00.0          6.9 2011-07-08 00:29:00+00:00   \n",
       "999999      999999  30:00.0          4.1 2009-12-31 14:30:00+00:00   \n",
       "\n",
       "        pickup_longitude  pickup_latitude  dropoff_longitude  \\\n",
       "999990        -73.963472        40.774893         -73.980038   \n",
       "999991        -73.973683        40.792300         -73.979603   \n",
       "999992        -73.976733        40.790480         -73.988215   \n",
       "999993        -73.975895        40.728558         -74.002202   \n",
       "999994        -73.872919        40.774106         -73.796524   \n",
       "999995        -73.976676        40.785630         -73.959196   \n",
       "999996        -73.992103        40.671385         -73.992103   \n",
       "999997        -73.978423        40.751135         -73.993397   \n",
       "999998        -73.980317        40.759482         -73.976832   \n",
       "999999        -74.006635        40.741598         -73.999450   \n",
       "\n",
       "        dropoff_latitude  passenger_count  year  month  day  hour   weekday  \n",
       "999990         40.777478                1  2009      9   22    16   Tuesday  \n",
       "999991         40.765361                1  2010      4   20     8   Tuesday  \n",
       "999992         40.779298                1  2011      1   21    10    Friday  \n",
       "999993         40.755675                2  2012     12   14    11    Friday  \n",
       "999994         40.775041                2  2014      6   29    22    Sunday  \n",
       "999995         40.775114                1  2014      9   13    21  Saturday  \n",
       "999996         40.671385                2  2010      9   20    14    Monday  \n",
       "999997         40.762197                5  2013      4   26    14    Friday  \n",
       "999998         40.743122                1  2011      7    8     0    Friday  \n",
       "999999         40.745702                1  2009     12   31    14  Thursday  "
      ]
     },
     "execution_count": 291,
     "metadata": {},
     "output_type": "execute_result"
    }
   ],
   "source": [
    "df_uber.tail(10)"
   ]
  },
  {
   "cell_type": "markdown",
   "metadata": {},
   "source": [
    "# Analyzing Data"
   ]
  },
  {
   "cell_type": "markdown",
   "metadata": {},
   "source": [
    "1. The effect of time on demand for Uber rides: distribution per hour, day, weekday and month."
   ]
  },
  {
   "cell_type": "code",
   "execution_count": 312,
   "metadata": {},
   "outputs": [
    {
     "data": {
      "image/png": "[encoded data removed]",
      "text/plain": [
       "<Figure size 1080x1152 with 3 Axes>"
      ]
     },
     "metadata": {
      "needs_background": "light"
     },
     "output_type": "display_data"
    }
   ],
   "source": [
    "# Create plots comparing demand per different time categories:\n",
    "fig = plt.figure(figsize = (15,16))\n",
    "\n",
    "plt.subplot(3,1,1) \n",
    "ax1 = sns.countplot(df_uber.hour, order = range(24))\n",
    "plt.tick_params(labelsize=13)\n",
    "plt.title('Total the Number of Trips', fontsize=17, color='navy')\n",
    "plt.xlabel('hour', fontsize=13)\n",
    "\n",
    "\n",
    "\n",
    "plt.subplot(3,1,2)\n",
    "ax2 = sns.countplot(df_uber.weekday)\n",
    "plt.tick_params(labelsize=13)\n",
    "plt.xlabel('weekday')\n",
    "\n",
    "\n",
    "\n",
    "plt.subplot(3,1,3)\n",
    "ax2 = sns.countplot(df_uber.month)\n",
    "plt.tick_params(labelsize=13)\n",
    "plt.xlabel('month')\n",
    "\n",
    "\n",
    "plt.show()"
   ]
  },
  {
   "cell_type": "markdown",
   "metadata": {},
   "source": [
    "2. Weekends vs Weekdays : Difference in average number of pickups on weekdays and weekends"
   ]
  },
  {
   "cell_type": "code",
   "execution_count": 293,
   "metadata": {},
   "outputs": [
    {
     "data": {
      "text/html": [
       "<div>\n",
       "<style scoped>\n",
       "    .dataframe tbody tr th:only-of-type {\n",
       "        vertical-align: middle;\n",
       "    }\n",
       "\n",
       "    .dataframe tbody tr th {\n",
       "        vertical-align: top;\n",
       "    }\n",
       "\n",
       "    .dataframe thead th {\n",
       "        text-align: right;\n",
       "    }\n",
       "</style>\n",
       "<table border=\"1\" class=\"dataframe\">\n",
       "  <thead>\n",
       "    <tr style=\"text-align: right;\">\n",
       "      <th></th>\n",
       "      <th>weekday</th>\n",
       "    </tr>\n",
       "  </thead>\n",
       "  <tbody>\n",
       "    <tr>\n",
       "      <th>Friday</th>\n",
       "      <td>154245</td>\n",
       "    </tr>\n",
       "    <tr>\n",
       "      <th>Saturday</th>\n",
       "      <td>151279</td>\n",
       "    </tr>\n",
       "    <tr>\n",
       "      <th>Thursday</th>\n",
       "      <td>149668</td>\n",
       "    </tr>\n",
       "    <tr>\n",
       "      <th>Wednesday</th>\n",
       "      <td>144838</td>\n",
       "    </tr>\n",
       "    <tr>\n",
       "      <th>Tuesday</th>\n",
       "      <td>139985</td>\n",
       "    </tr>\n",
       "    <tr>\n",
       "      <th>Sunday</th>\n",
       "      <td>131300</td>\n",
       "    </tr>\n",
       "    <tr>\n",
       "      <th>Monday</th>\n",
       "      <td>128675</td>\n",
       "    </tr>\n",
       "  </tbody>\n",
       "</table>\n",
       "</div>"
      ],
      "text/plain": [
       "           weekday\n",
       "Friday      154245\n",
       "Saturday    151279\n",
       "Thursday    149668\n",
       "Wednesday   144838\n",
       "Tuesday     139985\n",
       "Sunday      131300\n",
       "Monday      128675"
      ]
     },
     "execution_count": 293,
     "metadata": {},
     "output_type": "execute_result"
    }
   ],
   "source": [
    "week_day=pd.DataFrame(df_uber['weekday'].value_counts())\n",
    "week_day"
   ]
  },
  {
   "cell_type": "code",
   "execution_count": 294,
   "metadata": {},
   "outputs": [],
   "source": [
    "week_day['day_type']=['wd','wd','wd','wd','we','wd','we']"
   ]
  },
  {
   "cell_type": "code",
   "execution_count": 295,
   "metadata": {},
   "outputs": [
    {
     "data": {
      "text/html": [
       "<div>\n",
       "<style scoped>\n",
       "    .dataframe tbody tr th:only-of-type {\n",
       "        vertical-align: middle;\n",
       "    }\n",
       "\n",
       "    .dataframe tbody tr th {\n",
       "        vertical-align: top;\n",
       "    }\n",
       "\n",
       "    .dataframe thead th {\n",
       "        text-align: right;\n",
       "    }\n",
       "</style>\n",
       "<table border=\"1\" class=\"dataframe\">\n",
       "  <thead>\n",
       "    <tr style=\"text-align: right;\">\n",
       "      <th></th>\n",
       "      <th>weekday</th>\n",
       "      <th>day_type</th>\n",
       "    </tr>\n",
       "  </thead>\n",
       "  <tbody>\n",
       "    <tr>\n",
       "      <th>Friday</th>\n",
       "      <td>154245</td>\n",
       "      <td>wd</td>\n",
       "    </tr>\n",
       "    <tr>\n",
       "      <th>Saturday</th>\n",
       "      <td>151279</td>\n",
       "      <td>wd</td>\n",
       "    </tr>\n",
       "    <tr>\n",
       "      <th>Thursday</th>\n",
       "      <td>149668</td>\n",
       "      <td>wd</td>\n",
       "    </tr>\n",
       "    <tr>\n",
       "      <th>Wednesday</th>\n",
       "      <td>144838</td>\n",
       "      <td>wd</td>\n",
       "    </tr>\n",
       "    <tr>\n",
       "      <th>Tuesday</th>\n",
       "      <td>139985</td>\n",
       "      <td>we</td>\n",
       "    </tr>\n",
       "    <tr>\n",
       "      <th>Sunday</th>\n",
       "      <td>131300</td>\n",
       "      <td>wd</td>\n",
       "    </tr>\n",
       "    <tr>\n",
       "      <th>Monday</th>\n",
       "      <td>128675</td>\n",
       "      <td>we</td>\n",
       "    </tr>\n",
       "  </tbody>\n",
       "</table>\n",
       "</div>"
      ],
      "text/plain": [
       "           weekday day_type\n",
       "Friday      154245       wd\n",
       "Saturday    151279       wd\n",
       "Thursday    149668       wd\n",
       "Wednesday   144838       wd\n",
       "Tuesday     139985       we\n",
       "Sunday      131300       wd\n",
       "Monday      128675       we"
      ]
     },
     "execution_count": 295,
     "metadata": {},
     "output_type": "execute_result"
    }
   ],
   "source": [
    "week_day"
   ]
  },
  {
   "cell_type": "code",
   "execution_count": 296,
   "metadata": {},
   "outputs": [
    {
     "data": {
      "text/html": [
       "<div>\n",
       "<style scoped>\n",
       "    .dataframe tbody tr th:only-of-type {\n",
       "        vertical-align: middle;\n",
       "    }\n",
       "\n",
       "    .dataframe tbody tr th {\n",
       "        vertical-align: top;\n",
       "    }\n",
       "\n",
       "    .dataframe thead th {\n",
       "        text-align: right;\n",
       "    }\n",
       "</style>\n",
       "<table border=\"1\" class=\"dataframe\">\n",
       "  <thead>\n",
       "    <tr style=\"text-align: right;\">\n",
       "      <th></th>\n",
       "      <th>weekday</th>\n",
       "    </tr>\n",
       "    <tr>\n",
       "      <th>day_type</th>\n",
       "      <th></th>\n",
       "    </tr>\n",
       "  </thead>\n",
       "  <tbody>\n",
       "    <tr>\n",
       "      <th>wd</th>\n",
       "      <td>146266.0</td>\n",
       "    </tr>\n",
       "    <tr>\n",
       "      <th>we</th>\n",
       "      <td>134330.0</td>\n",
       "    </tr>\n",
       "  </tbody>\n",
       "</table>\n",
       "</div>"
      ],
      "text/plain": [
       "           weekday\n",
       "day_type          \n",
       "wd        146266.0\n",
       "we        134330.0"
      ]
     },
     "execution_count": 296,
     "metadata": {},
     "output_type": "execute_result"
    }
   ],
   "source": [
    "pie=week_day.groupby('day_type').sum()\n",
    "pie.iloc[0,0]=pie.iloc[0,0]/5\n",
    "pie.iloc[1,0]=pie.iloc[1,0]/2\n",
    "pie"
   ]
  },
  {
   "cell_type": "code",
   "execution_count": 297,
   "metadata": {},
   "outputs": [
    {
     "data": {
      "image/png": "[encoded data removed]",
      "text/plain": [
       "<Figure size 432x288 with 1 Axes>"
      ]
     },
     "metadata": {},
     "output_type": "display_data"
    }
   ],
   "source": [
    "explode=[0,0.05]\n",
    "colors=['#225ea8','#41b6c4']\n",
    "labels=['Weekday','Weekend']\n",
    "pie.plot.pie(autopct = '%1.1f%%',shadow=True,subplots=True,\n",
    "        colors=colors,explode=explode)\n",
    "plt.legend(labels=labels)\n",
    "plt.show()"
   ]
  },
  {
   "cell_type": "code",
   "execution_count": 298,
   "metadata": {},
   "outputs": [
    {
     "name": "stdout",
     "output_type": "stream",
     "text": [
      "fare_amount :  minimum = -44.9 - maximum= 500.0\n",
      "pickup_longitude :  minimum = -3377.6809350000003 - maximum= 2522.271325\n",
      "pickup_latitude :  minimum = -3116.285383 - maximum= 2621.62843\n",
      "dropoff_longitude :  minimum = -3383.2966079999997 - maximum= 45.581619\n",
      "dropoff_latitude :  minimum = -3114.3385670000002 - maximum= 1651.553433\n"
     ]
    }
   ],
   "source": [
    "print('fare_amount : ','minimum =', df_uber.fare_amount.min(),'- maximum=',df_uber.fare_amount.max())\n",
    "print('pickup_longitude : ', 'minimum =',df_uber.pickup_longitude.min(),'- maximum=', df_uber.pickup_longitude.max())\n",
    "print('pickup_latitude : ','minimum =', df_uber.pickup_latitude.min(),'- maximum=', df_uber.pickup_latitude.max())\n",
    "print('dropoff_longitude : ','minimum =',df_uber.dropoff_longitude.min(),'- maximum=', df_uber.dropoff_longitude.max())\n",
    "print('dropoff_latitude : ','minimum =', df_uber.dropoff_latitude.min(), '- maximum=',df_uber.dropoff_latitude.max())"
   ]
  },
  {
   "cell_type": "code",
   "execution_count": 299,
   "metadata": {},
   "outputs": [
    {
     "name": "stdout",
     "output_type": "stream",
     "text": [
      "fare_amount :  minimum = 0.01 - maximum= 500.0\n"
     ]
    }
   ],
   "source": [
    "# Since the fare of travel can never be a -ve value so we will be removing them first\n",
    "\n",
    "df_uber = df_uber[df_uber['fare_amount'] > 0]\n",
    "print('fare_amount : ','minimum =', df_uber.fare_amount.min(),'- maximum=',df_uber.fare_amount.max())"
   ]
  },
  {
   "cell_type": "code",
   "execution_count": 300,
   "metadata": {},
   "outputs": [],
   "source": [
    "\n",
    "config = {}\n",
    "with open('config.json', 'w') as f:\n",
    "    json.dump(config, f)\n",
    "def remove_outliers(dataset, column):\n",
    "    Q1 = df_uber[column].quantile(0.25)\n",
    "    Q2 = df_uber[column].quantile(0.5)\n",
    "    Q3 = df_uber[column].quantile(0.75)\n",
    "    IQR = Q3 - Q1\n",
    "    lower_limit = Q1 - 1.5*IQR\n",
    "    upper_limit = Q3 + 1.5*IQR\n",
    "    print('Q1 {}, Q2 {}, Q3 {}, IQR {}'.format(Q1, Q2, Q3, IQR))\n",
    "    print(lower_limit, upper_limit)\n",
    "    \n",
    "#     Savung the quartile ranges to remove outliers in free flowing data\n",
    "    with open('config.json', 'r') as f:\n",
    "        config = json.load(f)\n",
    "    config[column] = {}\n",
    "    config[column]['lower_limit'] = lower_limit\n",
    "    config[column]['upper_limit'] = upper_limit\n",
    "    with open('config.json', 'w') as f:\n",
    "        json.dump(config, f)\n",
    "    \n",
    "    return dataset[(dataset[column] > lower_limit) & (dataset[column] < upper_limit)]"
   ]
  },
  {
   "cell_type": "code",
   "execution_count": 301,
   "metadata": {},
   "outputs": [
    {
     "data": {
      "image/png": "[encoded data removed]",
      "text/plain": [
       "<Figure size 432x288 with 1 Axes>"
      ]
     },
     "metadata": {
      "needs_background": "light"
     },
     "output_type": "display_data"
    },
    {
     "name": "stdout",
     "output_type": "stream",
     "text": [
      "Q1 6.0, Q2 8.5, Q3 12.5, IQR 6.5\n",
      "-3.75 22.25\n"
     ]
    },
    {
     "data": {
      "image/png": "[encoded data removed]",
      "text/plain": [
       "<Figure size 432x288 with 1 Axes>"
      ]
     },
     "metadata": {
      "needs_background": "light"
     },
     "output_type": "display_data"
    },
    {
     "data": {
      "image/png": "[encoded data removed]",
      "text/plain": [
       "<Figure size 432x288 with 1 Axes>"
      ]
     },
     "metadata": {
      "needs_background": "light"
     },
     "output_type": "display_data"
    },
    {
     "name": "stdout",
     "output_type": "stream",
     "text": [
      "Q1 -73.99234, Q2 -73.982197, Q3 -73.969018, IQR 0.02332199999999318\n",
      "-74.027323 -73.93403500000002\n"
     ]
    },
    {
     "data": {
      "image/png": "[encoded data removed]",
      "text/plain": [
       "<Figure size 432x288 with 1 Axes>"
      ]
     },
     "metadata": {
      "needs_background": "light"
     },
     "output_type": "display_data"
    },
    {
     "data": {
      "image/png": "[encoded data removed]",
      "text/plain": [
       "<Figure size 432x288 with 1 Axes>"
      ]
     },
     "metadata": {
      "needs_background": "light"
     },
     "output_type": "display_data"
    },
    {
     "name": "stdout",
     "output_type": "stream",
     "text": [
      "Q1 40.737321, Q2 40.753268, Q3 40.766714, IQR 0.029392999999998892\n",
      "40.6932315 40.8108035\n"
     ]
    },
    {
     "data": {
      "image/png": "[encoded data removed]",
      "text/plain": [
       "<Figure size 432x288 with 1 Axes>"
      ]
     },
     "metadata": {
      "needs_background": "light"
     },
     "output_type": "display_data"
    },
    {
     "data": {
      "image/png": "[encoded data removed]",
      "text/plain": [
       "<Figure size 432x288 with 1 Axes>"
      ]
     },
     "metadata": {
      "needs_background": "light"
     },
     "output_type": "display_data"
    },
    {
     "name": "stdout",
     "output_type": "stream",
     "text": [
      "Q1 -73.992005, Q2 -73.98165131, Q3 -73.969094, IQR 0.022911000000007675\n",
      "-74.02637150000001 -73.93472749999998\n"
     ]
    },
    {
     "data": {
      "image/png": "[encoded data removed]",
      "text/plain": [
       "<Figure size 432x288 with 1 Axes>"
      ]
     },
     "metadata": {
      "needs_background": "light"
     },
     "output_type": "display_data"
    },
    {
     "data": {
      "image/png": "[encoded data removed]",
      "text/plain": [
       "<Figure size 432x288 with 1 Axes>"
      ]
     },
     "metadata": {
      "needs_background": "light"
     },
     "output_type": "display_data"
    },
    {
     "name": "stdout",
     "output_type": "stream",
     "text": [
      "Q1 40.737676500000006, Q2 40.75408173, Q3 40.76775, IQR 0.030073499999993203\n",
      "40.69256625000001 40.812860249999986\n"
     ]
    },
    {
     "data": {
      "image/png": "[encoded data removed]",
      "text/plain": [
       "<Figure size 432x288 with 1 Axes>"
      ]
     },
     "metadata": {
      "needs_background": "light"
     },
     "output_type": "display_data"
    }
   ],
   "source": [
    "sns.boxplot(df_uber.fare_amount)\n",
    "plt.show()\n",
    "df_uber = remove_outliers(df_uber, 'fare_amount')\n",
    "sns.boxplot(df_uber.fare_amount)\n",
    "plt.show()\n",
    "\n",
    "sns.boxplot(df_uber.pickup_longitude)\n",
    "plt.show()\n",
    "df_uber = remove_outliers(df_uber, 'pickup_longitude')\n",
    "sns.boxplot(df_uber.pickup_longitude)\n",
    "plt.show()\n",
    "\n",
    "sns.boxplot(df_uber.pickup_latitude)\n",
    "plt.show()\n",
    "df_uber = remove_outliers(df_uber, 'pickup_latitude')\n",
    "sns.boxplot(df_uber.pickup_latitude)\n",
    "plt.show()\n",
    "\n",
    "sns.boxplot(df_uber.dropoff_longitude)\n",
    "plt.show()\n",
    "df_uber = remove_outliers(df_uber, 'dropoff_longitude')\n",
    "sns.boxplot(df_uber.dropoff_longitude)\n",
    "plt.show()\n",
    "\n",
    "sns.boxplot(df_uber.fare_amount)\n",
    "plt.show()\n",
    "df_uber = remove_outliers(df_uber, 'dropoff_latitude')\n",
    "sns.boxplot(df_uber.dropoff_latitude)\n",
    "plt.show()"
   ]
  },
  {
   "cell_type": "code",
   "execution_count": 302,
   "metadata": {},
   "outputs": [],
   "source": [
    "\n",
    "from sklearn.preprocessing import LabelEncoder\n",
    "# now we have removed all the outliers from the dataset. Now we will move to encode the values in weekdays\n",
    "le = LabelEncoder()\n",
    "le.fit(df_uber.weekday)\n",
    "df_uber['weekday'] = le.transform(df_uber.weekday)"
   ]
  },
  {
   "cell_type": "code",
   "execution_count": 303,
   "metadata": {},
   "outputs": [
    {
     "data": {
      "text/html": [
       "<div>\n",
       "<style scoped>\n",
       "    .dataframe tbody tr th:only-of-type {\n",
       "        vertical-align: middle;\n",
       "    }\n",
       "\n",
       "    .dataframe tbody tr th {\n",
       "        vertical-align: top;\n",
       "    }\n",
       "\n",
       "    .dataframe thead th {\n",
       "        text-align: right;\n",
       "    }\n",
       "</style>\n",
       "<table border=\"1\" class=\"dataframe\">\n",
       "  <thead>\n",
       "    <tr style=\"text-align: right;\">\n",
       "      <th></th>\n",
       "      <th>Unnamed: 0</th>\n",
       "      <th>key</th>\n",
       "      <th>fare_amount</th>\n",
       "      <th>pickup_datetime</th>\n",
       "      <th>pickup_longitude</th>\n",
       "      <th>pickup_latitude</th>\n",
       "      <th>dropoff_longitude</th>\n",
       "      <th>dropoff_latitude</th>\n",
       "      <th>passenger_count</th>\n",
       "      <th>year</th>\n",
       "      <th>month</th>\n",
       "      <th>day</th>\n",
       "      <th>hour</th>\n",
       "      <th>weekday</th>\n",
       "    </tr>\n",
       "  </thead>\n",
       "  <tbody>\n",
       "    <tr>\n",
       "      <th>1</th>\n",
       "      <td>1</td>\n",
       "      <td>52:16.0</td>\n",
       "      <td>16.9</td>\n",
       "      <td>2010-01-05 16:52:16+00:00</td>\n",
       "      <td>-74.016048</td>\n",
       "      <td>40.711303</td>\n",
       "      <td>-73.979268</td>\n",
       "      <td>40.782004</td>\n",
       "      <td>1</td>\n",
       "      <td>2010</td>\n",
       "      <td>1</td>\n",
       "      <td>5</td>\n",
       "      <td>16</td>\n",
       "      <td>5</td>\n",
       "    </tr>\n",
       "    <tr>\n",
       "      <th>2</th>\n",
       "      <td>2</td>\n",
       "      <td>35:00.0</td>\n",
       "      <td>5.7</td>\n",
       "      <td>2011-08-18 00:35:00+00:00</td>\n",
       "      <td>-73.982738</td>\n",
       "      <td>40.761270</td>\n",
       "      <td>-73.991242</td>\n",
       "      <td>40.750562</td>\n",
       "      <td>2</td>\n",
       "      <td>2011</td>\n",
       "      <td>8</td>\n",
       "      <td>18</td>\n",
       "      <td>0</td>\n",
       "      <td>4</td>\n",
       "    </tr>\n",
       "    <tr>\n",
       "      <th>3</th>\n",
       "      <td>3</td>\n",
       "      <td>30:42.0</td>\n",
       "      <td>7.7</td>\n",
       "      <td>2012-04-21 04:30:42+00:00</td>\n",
       "      <td>-73.987130</td>\n",
       "      <td>40.733143</td>\n",
       "      <td>-73.991567</td>\n",
       "      <td>40.758092</td>\n",
       "      <td>1</td>\n",
       "      <td>2012</td>\n",
       "      <td>4</td>\n",
       "      <td>21</td>\n",
       "      <td>4</td>\n",
       "      <td>2</td>\n",
       "    </tr>\n",
       "    <tr>\n",
       "      <th>4</th>\n",
       "      <td>4</td>\n",
       "      <td>51:00.0</td>\n",
       "      <td>5.3</td>\n",
       "      <td>2010-03-09 07:51:00+00:00</td>\n",
       "      <td>-73.968095</td>\n",
       "      <td>40.768008</td>\n",
       "      <td>-73.956655</td>\n",
       "      <td>40.783762</td>\n",
       "      <td>1</td>\n",
       "      <td>2010</td>\n",
       "      <td>3</td>\n",
       "      <td>9</td>\n",
       "      <td>7</td>\n",
       "      <td>5</td>\n",
       "    </tr>\n",
       "    <tr>\n",
       "      <th>5</th>\n",
       "      <td>5</td>\n",
       "      <td>50:45.0</td>\n",
       "      <td>12.1</td>\n",
       "      <td>2011-01-06 09:50:45+00:00</td>\n",
       "      <td>-74.000964</td>\n",
       "      <td>40.731630</td>\n",
       "      <td>-73.972892</td>\n",
       "      <td>40.758233</td>\n",
       "      <td>1</td>\n",
       "      <td>2011</td>\n",
       "      <td>1</td>\n",
       "      <td>6</td>\n",
       "      <td>9</td>\n",
       "      <td>4</td>\n",
       "    </tr>\n",
       "  </tbody>\n",
       "</table>\n",
       "</div>"
      ],
      "text/plain": [
       "   Unnamed: 0      key  fare_amount           pickup_datetime  \\\n",
       "1           1  52:16.0         16.9 2010-01-05 16:52:16+00:00   \n",
       "2           2  35:00.0          5.7 2011-08-18 00:35:00+00:00   \n",
       "3           3  30:42.0          7.7 2012-04-21 04:30:42+00:00   \n",
       "4           4  51:00.0          5.3 2010-03-09 07:51:00+00:00   \n",
       "5           5  50:45.0         12.1 2011-01-06 09:50:45+00:00   \n",
       "\n",
       "   pickup_longitude  pickup_latitude  dropoff_longitude  dropoff_latitude  \\\n",
       "1        -74.016048        40.711303         -73.979268         40.782004   \n",
       "2        -73.982738        40.761270         -73.991242         40.750562   \n",
       "3        -73.987130        40.733143         -73.991567         40.758092   \n",
       "4        -73.968095        40.768008         -73.956655         40.783762   \n",
       "5        -74.000964        40.731630         -73.972892         40.758233   \n",
       "\n",
       "   passenger_count  year  month  day  hour  weekday  \n",
       "1                1  2010      1    5    16        5  \n",
       "2                2  2011      8   18     0        4  \n",
       "3                1  2012      4   21     4        2  \n",
       "4                1  2010      3    9     7        5  \n",
       "5                1  2011      1    6     9        4  "
      ]
     },
     "execution_count": 303,
     "metadata": {},
     "output_type": "execute_result"
    }
   ],
   "source": [
    "df_uber.head()"
   ]
  },
  {
   "cell_type": "markdown",
   "metadata": {},
   "source": [
    "Changing in some features might help so lets check for those feature tweeking\n",
    "\n",
    "So we will have the difference between latitute and longitute of the source and destination of travel"
   ]
  },
  {
   "cell_type": "code",
   "execution_count": 304,
   "metadata": {},
   "outputs": [],
   "source": [
    "df_uber['cov_longitude'] = abs(df_uber['pickup_longitude'] - df_uber['dropoff_longitude'])\n",
    "df_uber['cov_latitude'] = abs(df_uber['pickup_latitude'] - df_uber['dropoff_latitude'])"
   ]
  },
  {
   "cell_type": "code",
   "execution_count": 305,
   "metadata": {},
   "outputs": [
    {
     "data": {
      "text/html": [
       "<div>\n",
       "<style scoped>\n",
       "    .dataframe tbody tr th:only-of-type {\n",
       "        vertical-align: middle;\n",
       "    }\n",
       "\n",
       "    .dataframe tbody tr th {\n",
       "        vertical-align: top;\n",
       "    }\n",
       "\n",
       "    .dataframe thead th {\n",
       "        text-align: right;\n",
       "    }\n",
       "</style>\n",
       "<table border=\"1\" class=\"dataframe\">\n",
       "  <thead>\n",
       "    <tr style=\"text-align: right;\">\n",
       "      <th></th>\n",
       "      <th>Unnamed: 0</th>\n",
       "      <th>key</th>\n",
       "      <th>fare_amount</th>\n",
       "      <th>pickup_datetime</th>\n",
       "      <th>pickup_longitude</th>\n",
       "      <th>pickup_latitude</th>\n",
       "      <th>dropoff_longitude</th>\n",
       "      <th>dropoff_latitude</th>\n",
       "      <th>passenger_count</th>\n",
       "      <th>year</th>\n",
       "      <th>month</th>\n",
       "      <th>day</th>\n",
       "      <th>hour</th>\n",
       "      <th>weekday</th>\n",
       "      <th>cov_longitude</th>\n",
       "      <th>cov_latitude</th>\n",
       "    </tr>\n",
       "  </thead>\n",
       "  <tbody>\n",
       "    <tr>\n",
       "      <th>1</th>\n",
       "      <td>1</td>\n",
       "      <td>52:16.0</td>\n",
       "      <td>16.9</td>\n",
       "      <td>2010-01-05 16:52:16+00:00</td>\n",
       "      <td>-74.016048</td>\n",
       "      <td>40.711303</td>\n",
       "      <td>-73.979268</td>\n",
       "      <td>40.782004</td>\n",
       "      <td>1</td>\n",
       "      <td>2010</td>\n",
       "      <td>1</td>\n",
       "      <td>5</td>\n",
       "      <td>16</td>\n",
       "      <td>5</td>\n",
       "      <td>0.036780</td>\n",
       "      <td>0.070701</td>\n",
       "    </tr>\n",
       "    <tr>\n",
       "      <th>2</th>\n",
       "      <td>2</td>\n",
       "      <td>35:00.0</td>\n",
       "      <td>5.7</td>\n",
       "      <td>2011-08-18 00:35:00+00:00</td>\n",
       "      <td>-73.982738</td>\n",
       "      <td>40.761270</td>\n",
       "      <td>-73.991242</td>\n",
       "      <td>40.750562</td>\n",
       "      <td>2</td>\n",
       "      <td>2011</td>\n",
       "      <td>8</td>\n",
       "      <td>18</td>\n",
       "      <td>0</td>\n",
       "      <td>4</td>\n",
       "      <td>0.008504</td>\n",
       "      <td>0.010708</td>\n",
       "    </tr>\n",
       "    <tr>\n",
       "      <th>3</th>\n",
       "      <td>3</td>\n",
       "      <td>30:42.0</td>\n",
       "      <td>7.7</td>\n",
       "      <td>2012-04-21 04:30:42+00:00</td>\n",
       "      <td>-73.987130</td>\n",
       "      <td>40.733143</td>\n",
       "      <td>-73.991567</td>\n",
       "      <td>40.758092</td>\n",
       "      <td>1</td>\n",
       "      <td>2012</td>\n",
       "      <td>4</td>\n",
       "      <td>21</td>\n",
       "      <td>4</td>\n",
       "      <td>2</td>\n",
       "      <td>0.004437</td>\n",
       "      <td>0.024949</td>\n",
       "    </tr>\n",
       "    <tr>\n",
       "      <th>4</th>\n",
       "      <td>4</td>\n",
       "      <td>51:00.0</td>\n",
       "      <td>5.3</td>\n",
       "      <td>2010-03-09 07:51:00+00:00</td>\n",
       "      <td>-73.968095</td>\n",
       "      <td>40.768008</td>\n",
       "      <td>-73.956655</td>\n",
       "      <td>40.783762</td>\n",
       "      <td>1</td>\n",
       "      <td>2010</td>\n",
       "      <td>3</td>\n",
       "      <td>9</td>\n",
       "      <td>7</td>\n",
       "      <td>5</td>\n",
       "      <td>0.011440</td>\n",
       "      <td>0.015754</td>\n",
       "    </tr>\n",
       "    <tr>\n",
       "      <th>5</th>\n",
       "      <td>5</td>\n",
       "      <td>50:45.0</td>\n",
       "      <td>12.1</td>\n",
       "      <td>2011-01-06 09:50:45+00:00</td>\n",
       "      <td>-74.000964</td>\n",
       "      <td>40.731630</td>\n",
       "      <td>-73.972892</td>\n",
       "      <td>40.758233</td>\n",
       "      <td>1</td>\n",
       "      <td>2011</td>\n",
       "      <td>1</td>\n",
       "      <td>6</td>\n",
       "      <td>9</td>\n",
       "      <td>4</td>\n",
       "      <td>0.028072</td>\n",
       "      <td>0.026603</td>\n",
       "    </tr>\n",
       "  </tbody>\n",
       "</table>\n",
       "</div>"
      ],
      "text/plain": [
       "   Unnamed: 0      key  fare_amount           pickup_datetime  \\\n",
       "1           1  52:16.0         16.9 2010-01-05 16:52:16+00:00   \n",
       "2           2  35:00.0          5.7 2011-08-18 00:35:00+00:00   \n",
       "3           3  30:42.0          7.7 2012-04-21 04:30:42+00:00   \n",
       "4           4  51:00.0          5.3 2010-03-09 07:51:00+00:00   \n",
       "5           5  50:45.0         12.1 2011-01-06 09:50:45+00:00   \n",
       "\n",
       "   pickup_longitude  pickup_latitude  dropoff_longitude  dropoff_latitude  \\\n",
       "1        -74.016048        40.711303         -73.979268         40.782004   \n",
       "2        -73.982738        40.761270         -73.991242         40.750562   \n",
       "3        -73.987130        40.733143         -73.991567         40.758092   \n",
       "4        -73.968095        40.768008         -73.956655         40.783762   \n",
       "5        -74.000964        40.731630         -73.972892         40.758233   \n",
       "\n",
       "   passenger_count  year  month  day  hour  weekday  cov_longitude  \\\n",
       "1                1  2010      1    5    16        5       0.036780   \n",
       "2                2  2011      8   18     0        4       0.008504   \n",
       "3                1  2012      4   21     4        2       0.004437   \n",
       "4                1  2010      3    9     7        5       0.011440   \n",
       "5                1  2011      1    6     9        4       0.028072   \n",
       "\n",
       "   cov_latitude  \n",
       "1      0.070701  \n",
       "2      0.010708  \n",
       "3      0.024949  \n",
       "4      0.015754  \n",
       "5      0.026603  "
      ]
     },
     "execution_count": 305,
     "metadata": {},
     "output_type": "execute_result"
    }
   ],
   "source": [
    "df_uber.head()"
   ]
  },
  {
   "cell_type": "code",
   "execution_count": 306,
   "metadata": {},
   "outputs": [],
   "source": [
    "X = df_uber[['pickup_longitude', 'pickup_latitude', 'dropoff_longitude', 'dropoff_latitude', 'passenger_count', 'year', 'month', 'day', 'hour', 'weekday', 'cov_longitude', 'cov_latitude']]\n",
    "y = df_uber.fare_amount"
   ]
  },
  {
   "cell_type": "code",
   "execution_count": 307,
   "metadata": {},
   "outputs": [],
   "source": [
    "# Splitting data into train and test set\n",
    "from sklearn.model_selection import train_test_split\n",
    "x_train, y_train, x_test, y_test = train_test_split(X, y, test_size = 0.25, random_state = 42)"
   ]
  },
  {
   "cell_type": "markdown",
   "metadata": {},
   "source": [
    "# LinearRegression moudel to Predict Fare_amount"
   ]
  },
  {
   "cell_type": "code",
   "execution_count": 308,
   "metadata": {},
   "outputs": [
    {
     "data": {
      "text/plain": [
       "LinearRegression()"
      ]
     },
     "execution_count": 308,
     "metadata": {},
     "output_type": "execute_result"
    }
   ],
   "source": [
    "\n",
    "#LinearRegression moudel\n",
    "from sklearn.linear_model import LinearRegression\n",
    "\n",
    "linear=LinearRegression()\n",
    "linear.fit(x_train,x_test)"
   ]
  },
  {
   "cell_type": "code",
   "execution_count": 309,
   "metadata": {},
   "outputs": [],
   "source": [
    "predictions=linear.predict(y_train)"
   ]
  },
  {
   "cell_type": "code",
   "execution_count": 310,
   "metadata": {},
   "outputs": [
    {
     "data": {
      "text/html": [
       "<div>\n",
       "<style scoped>\n",
       "    .dataframe tbody tr th:only-of-type {\n",
       "        vertical-align: middle;\n",
       "    }\n",
       "\n",
       "    .dataframe tbody tr th {\n",
       "        vertical-align: top;\n",
       "    }\n",
       "\n",
       "    .dataframe thead th {\n",
       "        text-align: right;\n",
       "    }\n",
       "</style>\n",
       "<table border=\"1\" class=\"dataframe\">\n",
       "  <thead>\n",
       "    <tr style=\"text-align: right;\">\n",
       "      <th></th>\n",
       "      <th>Actual</th>\n",
       "      <th>Predicted</th>\n",
       "    </tr>\n",
       "  </thead>\n",
       "  <tbody>\n",
       "    <tr>\n",
       "      <th>677107</th>\n",
       "      <td>7.7</td>\n",
       "      <td>5.954697</td>\n",
       "    </tr>\n",
       "    <tr>\n",
       "      <th>809207</th>\n",
       "      <td>9.7</td>\n",
       "      <td>9.948824</td>\n",
       "    </tr>\n",
       "    <tr>\n",
       "      <th>584990</th>\n",
       "      <td>21.0</td>\n",
       "      <td>18.797700</td>\n",
       "    </tr>\n",
       "    <tr>\n",
       "      <th>381520</th>\n",
       "      <td>4.1</td>\n",
       "      <td>6.412421</td>\n",
       "    </tr>\n",
       "    <tr>\n",
       "      <th>840790</th>\n",
       "      <td>6.5</td>\n",
       "      <td>7.631889</td>\n",
       "    </tr>\n",
       "    <tr>\n",
       "      <th>298751</th>\n",
       "      <td>12.1</td>\n",
       "      <td>15.563484</td>\n",
       "    </tr>\n",
       "    <tr>\n",
       "      <th>811190</th>\n",
       "      <td>5.3</td>\n",
       "      <td>5.373106</td>\n",
       "    </tr>\n",
       "    <tr>\n",
       "      <th>496531</th>\n",
       "      <td>4.5</td>\n",
       "      <td>7.263920</td>\n",
       "    </tr>\n",
       "    <tr>\n",
       "      <th>459556</th>\n",
       "      <td>9.3</td>\n",
       "      <td>10.495650</td>\n",
       "    </tr>\n",
       "    <tr>\n",
       "      <th>945319</th>\n",
       "      <td>9.7</td>\n",
       "      <td>8.065279</td>\n",
       "    </tr>\n",
       "  </tbody>\n",
       "</table>\n",
       "</div>"
      ],
      "text/plain": [
       "        Actual  Predicted\n",
       "677107     7.7   5.954697\n",
       "809207     9.7   9.948824\n",
       "584990    21.0  18.797700\n",
       "381520     4.1   6.412421\n",
       "840790     6.5   7.631889\n",
       "298751    12.1  15.563484\n",
       "811190     5.3   5.373106\n",
       "496531     4.5   7.263920\n",
       "459556     9.3  10.495650\n",
       "945319     9.7   8.065279"
      ]
     },
     "execution_count": 310,
     "metadata": {},
     "output_type": "execute_result"
    }
   ],
   "source": [
    "df = pd.DataFrame({'Actual': y_test, 'Predicted': predictions})\n",
    "df.head(10)"
   ]
  },
  {
   "cell_type": "code",
   "execution_count": 311,
   "metadata": {},
   "outputs": [
    {
     "data": {
      "image/png": "[encoded data removed]",
      "text/plain": [
       "<Figure size 1872x720 with 1 Axes>"
      ]
     },
     "metadata": {
      "needs_background": "light"
     },
     "output_type": "display_data"
    }
   ],
   "source": [
    "df1 = df.head(10)\n",
    "df1.plot(kind='bar',figsize=(26,10))\n",
    "plt.grid(which='major', linestyle='-', linewidth='0.5', color='green')\n",
    "plt.grid(which='minor', linestyle=':', linewidth='0.5', color='blue')\n",
    "plt.show()"
   ]
  }
 ],
 "metadata": {
  "kernelspec": {
   "display_name": "Python 3",
   "language": "python",
   "name": "python3"
  },
  "language_info": {
   "codemirror_mode": {
    "name": "ipython",
    "version": 3
   },
   "file_extension": ".py",
   "mimetype": "text/x-python",
   "name": "python",
   "nbconvert_exporter": "python",
   "pygments_lexer": "ipython3",
   "version": "3.8.3"
  }
 },
 "nbformat": 4,
 "nbformat_minor": 4
}
